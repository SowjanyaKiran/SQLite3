{
  "nbformat": 4,
  "nbformat_minor": 0,
  "metadata": {
    "colab": {
      "provenance": [],
      "authorship_tag": "ABX9TyMCxYpY/s9MNiGiIHBCcWDb",
      "include_colab_link": true
    },
    "kernelspec": {
      "name": "python3",
      "display_name": "Python 3"
    },
    "language_info": {
      "name": "python"
    }
  },
  "cells": [
    {
      "cell_type": "markdown",
      "metadata": {
        "id": "view-in-github",
        "colab_type": "text"
      },
      "source": [
        "<a href=\"https://colab.research.google.com/github/SowjanyaKiran/SQLite3/blob/main/SQLite3_through_colab.ipynb\" target=\"_parent\"><img src=\"https://colab.research.google.com/assets/colab-badge.svg\" alt=\"Open In Colab\"/></a>"
      ]
    },
    {
      "cell_type": "markdown",
      "source": [
        "# **Introduction to SQL and Advanced Queries**"
      ],
      "metadata": {
        "id": "cr5xPgRiF5oV"
      }
    },
    {
      "cell_type": "code",
      "execution_count": null,
      "metadata": {
        "id": "PJAb82uNADE_"
      },
      "outputs": [],
      "source": [
        "#Importing SQLite3 libraries\n",
        "import sqlite3"
      ]
    },
    {
      "cell_type": "code",
      "source": [
        "#Connecting SQLite database\n",
        "conn = sqlite3.connect(':memory:')\n",
        "cursor = conn.cursor()"
      ],
      "metadata": {
        "id": "qsylJXQqGQ1U"
      },
      "execution_count": null,
      "outputs": []
    },
    {
      "cell_type": "code",
      "source": [
        "# Create Table\n",
        "# CREATE TABLE TABLE_NAME\n",
        "cursor.execute('''\n",
        "CREATE TABLE students (\n",
        "  id INTEGER PRIMARY KEY,\n",
        "  name TEXT,\n",
        "  age INTEGER,\n",
        "  grade TEXT\n",
        ")\n",
        "''')"
      ],
      "metadata": {
        "colab": {
          "base_uri": "https://localhost:8080/"
        },
        "id": "gNutktMOGs7c",
        "outputId": "2c8b6df3-5b68-4daa-ff6d-22006b57f5b5"
      },
      "execution_count": null,
      "outputs": [
        {
          "output_type": "execute_result",
          "data": {
            "text/plain": [
              "<sqlite3.Cursor at 0x7866ee9c09c0>"
            ]
          },
          "metadata": {},
          "execution_count": 80
        }
      ]
    },
    {
      "cell_type": "code",
      "source": [
        "# Insert Data to the Table\n",
        "#INSERT INTO TABLE_NAME(COLUMN1, COLUMN2,...COLUMNn) VALUES (VALUE1,VALUE2,...VALUEn)\n",
        "cursor.execute('''\n",
        "INSERT INTO students (name, age, grade) VALUES ('John Doe', 21, 'A')\n",
        "''')"
      ],
      "metadata": {
        "colab": {
          "base_uri": "https://localhost:8080/"
        },
        "id": "EhxlRSTxHKob",
        "outputId": "432dcb12-9039-4771-adfb-0d5b33aad5a0"
      },
      "execution_count": null,
      "outputs": [
        {
          "output_type": "execute_result",
          "data": {
            "text/plain": [
              "<sqlite3.Cursor at 0x7866ee9c09c0>"
            ]
          },
          "metadata": {},
          "execution_count": 81
        }
      ]
    },
    {
      "cell_type": "code",
      "source": [
        "#Inserting data in table\n",
        "cursor.execute('''\n",
        "INSERT INTO students (name, age, grade) VALUES ('Jane Smith', 22, 'B')\n",
        "''')\n",
        "cursor.execute('''\n",
        "INSERT INTO students (name, age, grade) VALUES  ('Ravi', 20, 'B')\n",
        "''')\n",
        "cursor.execute('''\n",
        "INSERT INTO students (name, age, grade) VALUES  ('Raja', 23, 'C')\n",
        "''')"
      ],
      "metadata": {
        "colab": {
          "base_uri": "https://localhost:8080/"
        },
        "id": "QHm6Tp3JKWg2",
        "outputId": "e32ee9e2-c3dd-45dd-8a7f-94447e1573e3"
      },
      "execution_count": null,
      "outputs": [
        {
          "output_type": "execute_result",
          "data": {
            "text/plain": [
              "<sqlite3.Cursor at 0x7866ee9c09c0>"
            ]
          },
          "metadata": {},
          "execution_count": 82
        }
      ]
    },
    {
      "cell_type": "code",
      "source": [
        "#Commit the changes\n",
        "conn.commit()"
      ],
      "metadata": {
        "id": "Q9MhoA-jKRR_"
      },
      "execution_count": null,
      "outputs": []
    },
    {
      "cell_type": "code",
      "source": [
        "#Display the data in table\n",
        "cursor.execute('''\n",
        "SELECT * FROM students\n",
        "''')"
      ],
      "metadata": {
        "colab": {
          "base_uri": "https://localhost:8080/"
        },
        "id": "y4dYTvCXLzwQ",
        "outputId": "b37d9f06-4b7c-4605-9171-20c00836aca6"
      },
      "execution_count": null,
      "outputs": [
        {
          "output_type": "execute_result",
          "data": {
            "text/plain": [
              "<sqlite3.Cursor at 0x7866ee9c09c0>"
            ]
          },
          "metadata": {},
          "execution_count": 84
        }
      ]
    },
    {
      "cell_type": "code",
      "source": [
        "rows = cursor.fetchall()"
      ],
      "metadata": {
        "id": "O_t_KOdOMOJn"
      },
      "execution_count": null,
      "outputs": []
    },
    {
      "cell_type": "code",
      "source": [
        "for row in rows:\n",
        "  print(row)"
      ],
      "metadata": {
        "colab": {
          "base_uri": "https://localhost:8080/"
        },
        "id": "9Et7ttfCMT3X",
        "outputId": "e0e7baa8-518b-4ead-f3dc-d32e33a73d20"
      },
      "execution_count": null,
      "outputs": [
        {
          "output_type": "stream",
          "name": "stdout",
          "text": [
            "(1, 'John Doe', 21, 'A')\n",
            "(2, 'Jane Smith', 22, 'B')\n",
            "(3, 'Ravi', 20, 'B')\n",
            "(4, 'Raja', 23, 'C')\n"
          ]
        }
      ]
    },
    {
      "cell_type": "code",
      "source": [
        "#Delete recod were name is John Doe\n",
        "cursor.execute('''\n",
        "DELETE FROM students WHERE name = 'Raja'\n",
        "''')"
      ],
      "metadata": {
        "colab": {
          "base_uri": "https://localhost:8080/"
        },
        "id": "DjQc59MPMkDv",
        "outputId": "e888d351-15a8-45dc-e025-779737cd3ef0"
      },
      "execution_count": null,
      "outputs": [
        {
          "output_type": "execute_result",
          "data": {
            "text/plain": [
              "<sqlite3.Cursor at 0x7866ee9c09c0>"
            ]
          },
          "metadata": {},
          "execution_count": 87
        }
      ]
    },
    {
      "cell_type": "code",
      "source": [
        "#Commit the changes\n",
        "conn.commit()"
      ],
      "metadata": {
        "id": "laem4aYoQKLk"
      },
      "execution_count": null,
      "outputs": []
    },
    {
      "cell_type": "code",
      "source": [
        "#Display the data in table\n",
        "cursor.execute('''\n",
        "SELECT * FROM students\n",
        "''')"
      ],
      "metadata": {
        "colab": {
          "base_uri": "https://localhost:8080/"
        },
        "id": "pkwCdKu0QVyT",
        "outputId": "701f44ea-23ee-4143-d6e4-35b95d3dfed5"
      },
      "execution_count": null,
      "outputs": [
        {
          "output_type": "execute_result",
          "data": {
            "text/plain": [
              "<sqlite3.Cursor at 0x7866ee9c09c0>"
            ]
          },
          "metadata": {},
          "execution_count": 89
        }
      ]
    },
    {
      "cell_type": "code",
      "source": [
        "for row in rows:\n",
        "  print(row)"
      ],
      "metadata": {
        "colab": {
          "base_uri": "https://localhost:8080/"
        },
        "id": "3ft6CsC6QZmD",
        "outputId": "91449de0-5799-475a-9ae4-f759d3037ae2"
      },
      "execution_count": null,
      "outputs": [
        {
          "output_type": "stream",
          "name": "stdout",
          "text": [
            "(1, 'John Doe', 21, 'A')\n",
            "(2, 'Jane Smith', 22, 'B')\n",
            "(3, 'Ravi', 20, 'B')\n",
            "(4, 'Raja', 23, 'C')\n"
          ]
        }
      ]
    },
    {
      "cell_type": "code",
      "source": [
        "# Update record with age 30 where name is ravi\n",
        "# UPDATE TABLE_NAME SET FIELD_NAME= VALUE WHERE CONDITION\n",
        "cursor.execute('''\n",
        "UPDATE students SET age = 30 WHERE name = 'Ravi'\n",
        "''')"
      ],
      "metadata": {
        "colab": {
          "base_uri": "https://localhost:8080/"
        },
        "id": "DP2PBQkWTY1B",
        "outputId": "c482515c-acad-4536-d740-0360016e3d44"
      },
      "execution_count": null,
      "outputs": [
        {
          "output_type": "execute_result",
          "data": {
            "text/plain": [
              "<sqlite3.Cursor at 0x7866ee9c09c0>"
            ]
          },
          "metadata": {},
          "execution_count": 91
        }
      ]
    },
    {
      "cell_type": "code",
      "source": [
        "# Commit the changes\n",
        "conn.commit()"
      ],
      "metadata": {
        "id": "-WCOjA7yTcNZ"
      },
      "execution_count": null,
      "outputs": []
    },
    {
      "cell_type": "code",
      "source": [
        "# Display the update DB\n",
        "cursor.execute('''\n",
        "SELECT * FROM students\n",
        "''')"
      ],
      "metadata": {
        "colab": {
          "base_uri": "https://localhost:8080/"
        },
        "id": "KWbRX377TeHx",
        "outputId": "cb518788-a412-4f66-b549-81776e32324d"
      },
      "execution_count": null,
      "outputs": [
        {
          "output_type": "execute_result",
          "data": {
            "text/plain": [
              "<sqlite3.Cursor at 0x7866ee9c09c0>"
            ]
          },
          "metadata": {},
          "execution_count": 93
        }
      ]
    },
    {
      "cell_type": "code",
      "source": [
        "rows = cursor.fetchall()\n",
        "for row in rows:\n",
        "  print(row)"
      ],
      "metadata": {
        "colab": {
          "base_uri": "https://localhost:8080/"
        },
        "id": "dKr-1OQNTgGx",
        "outputId": "fa84501d-85c2-49c3-862b-ee9eeb707f09"
      },
      "execution_count": null,
      "outputs": [
        {
          "output_type": "stream",
          "name": "stdout",
          "text": [
            "(1, 'John Doe', 21, 'A')\n",
            "(2, 'Jane Smith', 22, 'B')\n",
            "(3, 'Ravi', 30, 'B')\n"
          ]
        }
      ]
    },
    {
      "cell_type": "code",
      "source": [
        "# Create a Table Name courses with features, id and course_name\n",
        "cursor.execute('''\n",
        "CREATE TABLE courses (\n",
        "  id INTEGER PRIMARY KEY,\n",
        "  course_name TEXT\n",
        ")\n",
        "''')"
      ],
      "metadata": {
        "colab": {
          "base_uri": "https://localhost:8080/"
        },
        "id": "71YMgqRpPk4P",
        "outputId": "0f0f698f-698d-4bac-9a16-b753d01509ce"
      },
      "execution_count": null,
      "outputs": [
        {
          "output_type": "execute_result",
          "data": {
            "text/plain": [
              "<sqlite3.Cursor at 0x7866ee9c09c0>"
            ]
          },
          "metadata": {},
          "execution_count": 95
        }
      ]
    },
    {
      "cell_type": "code",
      "source": [
        "# Add 3 records with values Mathematics, Physics and Physics\n",
        "# Insert Data to the Table\n",
        "#INSERT INTO TABLE_NAME(COLUMN1, COLUMN2,...COLUMNn) VALUES (VALUE1,VALUE2,...VALUEn)\n",
        "cursor.execute('''\n",
        "INSERT INTO courses (course_name) VALUES ('Mathematics')\n",
        "''')\n",
        "cursor.execute('''\n",
        "INSERT INTO courses (course_name) VALUES ('Physics')\n",
        "''')\n",
        "cursor.execute('''\n",
        "INSERT INTO courses (course_name) VALUES ('Physics')\n",
        "''')"
      ],
      "metadata": {
        "colab": {
          "base_uri": "https://localhost:8080/"
        },
        "id": "xYpCs3PpRCWQ",
        "outputId": "27ec82d7-73ac-4181-cb11-d6b06e2aea98"
      },
      "execution_count": null,
      "outputs": [
        {
          "output_type": "execute_result",
          "data": {
            "text/plain": [
              "<sqlite3.Cursor at 0x7866ee9c09c0>"
            ]
          },
          "metadata": {},
          "execution_count": 96
        }
      ]
    },
    {
      "cell_type": "code",
      "source": [
        "# Commit the changes\n",
        "conn.commit()"
      ],
      "metadata": {
        "id": "GvZ7CVKoRJDW"
      },
      "execution_count": null,
      "outputs": []
    },
    {
      "cell_type": "code",
      "source": [
        "# Display the update DB\n",
        "cursor.execute('''\n",
        "SELECT * FROM courses\n",
        "''')"
      ],
      "metadata": {
        "colab": {
          "base_uri": "https://localhost:8080/"
        },
        "id": "_VN6JazCRKZP",
        "outputId": "c9330392-2984-4ca3-c11d-ef30d2f60a4b"
      },
      "execution_count": null,
      "outputs": [
        {
          "output_type": "execute_result",
          "data": {
            "text/plain": [
              "<sqlite3.Cursor at 0x7866ee9c09c0>"
            ]
          },
          "metadata": {},
          "execution_count": 98
        }
      ]
    },
    {
      "cell_type": "code",
      "source": [
        "rows = cursor.fetchall()\n",
        "for row in rows:\n",
        "  print(row)"
      ],
      "metadata": {
        "colab": {
          "base_uri": "https://localhost:8080/"
        },
        "id": "AEJpxifaRODP",
        "outputId": "c5fcfb30-3b9a-42d5-8422-e22843f09900"
      },
      "execution_count": null,
      "outputs": [
        {
          "output_type": "stream",
          "name": "stdout",
          "text": [
            "(1, 'Mathematics')\n",
            "(2, 'Physics')\n",
            "(3, 'Physics')\n"
          ]
        }
      ]
    },
    {
      "cell_type": "code",
      "source": [
        "# JOIN BOTH THE TABLES\n",
        "cursor.execute('''\n",
        "SELECT students.name, courses.course_name\n",
        "FROM students\n",
        "JOIN courses ON students.id = courses.id\n",
        "''')"
      ],
      "metadata": {
        "colab": {
          "base_uri": "https://localhost:8080/"
        },
        "id": "Ur_C1WtXRP1n",
        "outputId": "e279cb54-bc12-4afd-874c-aa17c4f345f3"
      },
      "execution_count": null,
      "outputs": [
        {
          "output_type": "execute_result",
          "data": {
            "text/plain": [
              "<sqlite3.Cursor at 0x7866ee9c09c0>"
            ]
          },
          "metadata": {},
          "execution_count": 100
        }
      ]
    },
    {
      "cell_type": "code",
      "source": [
        "# Commit the changes\n",
        "conn.commit()"
      ],
      "metadata": {
        "id": "C9ZBZSv3RV6P"
      },
      "execution_count": null,
      "outputs": []
    },
    {
      "cell_type": "code",
      "source": [
        "rows = cursor.fetchall()\n",
        "for row in rows:\n",
        "  print(row)"
      ],
      "metadata": {
        "colab": {
          "base_uri": "https://localhost:8080/"
        },
        "id": "SVssEqO3RZLY",
        "outputId": "678f1982-8a4c-480c-83c4-96dea0721b04"
      },
      "execution_count": null,
      "outputs": [
        {
          "output_type": "stream",
          "name": "stdout",
          "text": [
            "('John Doe', 'Mathematics')\n",
            "('Jane Smith', 'Physics')\n",
            "('Ravi', 'Physics')\n"
          ]
        }
      ]
    },
    {
      "cell_type": "code",
      "source": [
        "# Count the occurance of Mathematics and Physics\n",
        "cursor.execute('''\n",
        "SELECT courses.course_name, COUNT(*) AS count\n",
        "FROM students\n",
        "JOIN courses ON students.id = courses.id\n",
        "GROUP BY courses.course_name\n",
        "\n",
        "''')"
      ],
      "metadata": {
        "colab": {
          "base_uri": "https://localhost:8080/"
        },
        "id": "OgMCtAepRmaQ",
        "outputId": "4d19aabc-1fdd-4cc1-b088-1a968527e196"
      },
      "execution_count": null,
      "outputs": [
        {
          "output_type": "execute_result",
          "data": {
            "text/plain": [
              "<sqlite3.Cursor at 0x7866ee9c09c0>"
            ]
          },
          "metadata": {},
          "execution_count": 103
        }
      ]
    },
    {
      "cell_type": "code",
      "source": [
        "# Commit the changes\n",
        "conn.commit()"
      ],
      "metadata": {
        "id": "kof0Gj04S6Z3"
      },
      "execution_count": null,
      "outputs": []
    },
    {
      "cell_type": "code",
      "source": [
        "rows = cursor.fetchall()\n",
        "for row in rows:\n",
        "  print(row)"
      ],
      "metadata": {
        "colab": {
          "base_uri": "https://localhost:8080/"
        },
        "id": "4_sF9U4ES71t",
        "outputId": "9f99f0da-013e-4cd8-aed8-0a35dd4e4d4a"
      },
      "execution_count": null,
      "outputs": [
        {
          "output_type": "stream",
          "name": "stdout",
          "text": [
            "('Mathematics', 1)\n",
            "('Physics', 2)\n"
          ]
        }
      ]
    },
    {
      "cell_type": "code",
      "source": [
        "# Grouping data and using aggregate functions\n",
        "\n",
        "cursor.execute('''\n",
        "SELECT courses.course_name, COUNT(*) as student_count\n",
        "FROM courses\n",
        "JOIN students ON courses.id = students.id\n",
        "GROUP BY courses.course_name\n",
        "''')"
      ],
      "metadata": {
        "colab": {
          "base_uri": "https://localhost:8080/"
        },
        "id": "PxKcNPdSUXMO",
        "outputId": "1a1022f7-fca9-4602-ecf7-cda62be3de2c"
      },
      "execution_count": null,
      "outputs": [
        {
          "output_type": "execute_result",
          "data": {
            "text/plain": [
              "<sqlite3.Cursor at 0x7866ee9c09c0>"
            ]
          },
          "metadata": {},
          "execution_count": 106
        }
      ]
    },
    {
      "cell_type": "code",
      "source": [
        "rows = cursor.fetchall()\n",
        "print(\"\\nGrouped Data:\")\n",
        "for row in rows:\n",
        "    print(row)"
      ],
      "metadata": {
        "colab": {
          "base_uri": "https://localhost:8080/"
        },
        "id": "qAuM9BtBUatY",
        "outputId": "49dc6bde-4f36-4b60-d898-be56b2141e81"
      },
      "execution_count": null,
      "outputs": [
        {
          "output_type": "stream",
          "name": "stdout",
          "text": [
            "\n",
            "Grouped Data:\n",
            "('Mathematics', 1)\n",
            "('Physics', 2)\n"
          ]
        }
      ]
    },
    {
      "cell_type": "code",
      "source": [
        "# ORDER BY GRADE FROM STUDENT TABLE IN DESCENDING ORDER\n",
        "cursor.execute('''SELECT name,grade\n",
        "FROM students ORDER BY grade DESC\n",
        "''')\n",
        "rows = cursor.fetchall()\n",
        "print(\"\\nGrouped Data:\")\n",
        "for row in rows:\n",
        "    print(row)"
      ],
      "metadata": {
        "colab": {
          "base_uri": "https://localhost:8080/"
        },
        "id": "Sk_iPvXyUfNA",
        "outputId": "f30f9151-b7d4-4fc5-eb6f-11da35a633a9"
      },
      "execution_count": null,
      "outputs": [
        {
          "output_type": "stream",
          "name": "stdout",
          "text": [
            "\n",
            "Grouped Data:\n",
            "('Jane Smith', 'B')\n",
            "('Ravi', 'B')\n",
            "('John Doe', 'A')\n"
          ]
        }
      ]
    }
  ]
}